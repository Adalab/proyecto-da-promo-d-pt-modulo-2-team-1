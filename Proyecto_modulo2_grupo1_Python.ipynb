{
 "cells": [
  {
   "cell_type": "markdown",
   "metadata": {},
   "source": [
    "Base de datos Spotify."
   ]
  },
  {
   "cell_type": "code",
   "execution_count": null,
   "metadata": {},
   "outputs": [],
   "source": [
    "# Importar spotity\n",
    "!pip install spotipy\n",
    "import spotipy"
   ]
  },
  {
   "cell_type": "code",
   "execution_count": null,
   "metadata": {},
   "outputs": [],
   "source": [
    "# Para entrar:\n",
    "from spotipy.oauth2 import SpotifyClientCredentials"
   ]
  },
  {
   "cell_type": "code",
   "execution_count": null,
   "metadata": {},
   "outputs": [],
   "source": [
    "# Credenciales\n",
    "CLIENT_ID = '7a9658b7430848dcbe6bdf5465b1afde'\n",
    "CLIENT_SECRET = 'c80b14b55a09441ebeaf685e5113deff'\n",
    "\n",
    "#Autenticación\n",
    "auth_manager = SpotifyClientCredentials(client_id=CLIENT_ID, client_secret=CLIENT_SECRET)\n",
    "sp = spotipy.Spotify(auth_manager=auth_manager)\n",
    "redirect_uri=\"http://localhost:8888/callback\",\n",
    "scope=\"user-library-read\"  # Ajusta los permisos según necesites"
   ]
  },
  {
   "cell_type": "code",
   "execution_count": null,
   "metadata": {},
   "outputs": [],
   "source": [
    "# Géneros que usaremos: Rock, Pop, Latino y R&B.\n",
    "# Tramo: 2020 -2025\n",
    "genres = ['rock', 'pop', 'latino' , 'R&B']\n",
    "year_start = 2020\n",
    "year_end = 2025\n",
    "limit= 50\n",
    "results = []\n",
    "artists = []\n",
    "\n",
    "#Aquí iríamos buscando por género\n",
    "datos = sp.search(q=f\"genre: rock year:{year_start}-{year_end}\", type='track,album', limit= 50, offset=0)"
   ]
  },
  {
   "cell_type": "code",
   "execution_count": null,
   "metadata": {},
   "outputs": [],
   "source": [
    "for genre in genres:\n",
    "    for offset in range(0, 1000, limit):  # Ajusta el rango según la cantidad de resultados que quieras\n",
    "        results_genre = sp.search(q=f'genre:{genre} year:{year_start}-{year_end}', type='track,album', limit=limit, offset=offset)\n",
    "        for item in results_genre ['tracks']['items']: # Entra a cada canción\n",
    "            artists.append(item['artists'][0]['name']) # Añade el nombre del artista de la canción\n",
    "            results.append({\n",
    "                'name_track': item['name'],\n",
    "                'name_artist': item['artists'][0]['name'],\n",
    "                'genre': genre, # Hacer que vaya pasando por cada género solo\n",
    "                'type': item['type'],\n",
    "                'year': item['album']['release_date'][:4] }) # Para que solo recoja el año ustamos :4, debido al formato 01/12/2024\n",
    "        for item in results_genre['albums']['items']: # Entra a cada album\n",
    "            artists.append(item['artists'][0]['name']) # Añade el nombre del artista del album\n",
    "            results.append({\n",
    "                'name_track': item['name'],\n",
    "                'name_artist': item['artists'][0]['name'],\n",
    "                'genre': genre, # Hacer que vaya pasando por cada género solo\n",
    "                'type': item['type'], \n",
    "                'year': item['release_date'][:4] })# Para que solo recoja el año ustamos :4, debido al formato 01/12/2024\n",
    "len(results)"
   ]
  },
  {
   "cell_type": "code",
   "execution_count": null,
   "metadata": {},
   "outputs": [],
   "source": [
    "print(results)\n"
   ]
  },
  {
   "cell_type": "code",
   "execution_count": null,
   "metadata": {},
   "outputs": [],
   "source": [
    "import pandas as pd\n",
    "df_spotify= pd.DataFrame(results)"
   ]
  },
  {
   "cell_type": "code",
   "execution_count": null,
   "metadata": {},
   "outputs": [],
   "source": [
    "df_spotify"
   ]
  },
  {
   "cell_type": "code",
   "execution_count": null,
   "metadata": {},
   "outputs": [],
   "source": [
    "df_spotify.to_csv('spotify_data_tracks.csv', index=False, encoding='utf-8')"
   ]
  },
  {
   "cell_type": "markdown",
   "metadata": {},
   "source": [
    "Base de datos last.fm.\n"
   ]
  },
  {
   "cell_type": "code",
   "execution_count": null,
   "metadata": {},
   "outputs": [],
   "source": [
    "# Importar librería para la conexión con MySQL\n",
    "import mysql.connector\n",
    "from mysql.connector import errorcode\n",
    "\n",
    "import requests\n",
    "import pandas as pd\n",
    "\n",
    "import spotipy\n",
    "from spotipy.oauth2 import SpotifyClientCredentials"
   ]
  },
  {
   "cell_type": "code",
   "execution_count": null,
   "metadata": {},
   "outputs": [],
   "source": [
    "\n",
    "# API Key obtenida de last.fm\n",
    "API_KEY =  'be844a0247f4741ca1485d075e544319' # Reemplaza con tu API Key válida de Last.fm.\n",
    "BASE_URL = 'http://ws.audioscrobbler.com/2.0/' # esta base siempre es la misma."
   ]
  },
  {
   "cell_type": "code",
   "execution_count": null,
   "metadata": {},
   "outputs": [],
   "source": [
    "import requests\n",
    "import time\n",
    "import pandas as pd\n",
    "\n",
    "# Lista para almacenar los datos que luego guardaremos en un DataFrame\n",
    "artist_data = []\n",
    "\n",
    "# Elimina duplicados si es necesario\n",
    "artists = list(set(artists))\n",
    "\n",
    "for artist_name in artists:\n",
    "    params_info = {\n",
    "        'method': 'artist.getinfo',\n",
    "        'artist': artist_name,\n",
    "        'api_key': API_KEY,\n",
    "        'format': 'json',\n",
    "        'lang': 'es'  # Intentar obtener la biografía en español\n",
    "    }\n",
    "    try:\n",
    "        response_info = requests.get(BASE_URL, params=params_info)\n",
    "        data_info = response_info.json()\n",
    "\n",
    "        if 'artist' in data_info:\n",
    "            artist_info = data_info['artist']\n",
    "            name = artist_info['name']\n",
    "            listeners = artist_info['stats']['listeners']\n",
    "            playcount = artist_info['stats']['playcount']\n",
    "            biography = artist_info['bio']['content']\n",
    "            similar_artists = [a['name'] for a in artist_info['similar']['artist']]\n",
    "\n",
    "            artist_data.append({\n",
    "                'artista': name,\n",
    "                'oyentes': listeners,\n",
    "                'reproducciones': playcount,\n",
    "                'biografia': biography,\n",
    "                'artistas_similares': similar_artists\n",
    "            })\n",
    "        else:\n",
    "            print(f\"No se encontró información para el artista: {artist_name}\")\n",
    "            # Puedes decidir si agregar una entrada con valores nulos o simplemente continuar\n",
    "            artist_data.append({\n",
    "                'artista': artist_name,\n",
    "                'oyentes': None,\n",
    "                'reproducciones': None,\n",
    "                'biografia': None,\n",
    "                'artistas_similares': None\n",
    "            })\n",
    "    except Exception as e:\n",
    "        print(f\"Error al obtener datos del artista '{artist_name}': {e}\")\n",
    "        # Manejo de excepciones; puedes optar por registrar el error y continuar\n",
    "        artist_data.append({\n",
    "            'artista': artist_name,\n",
    "            'oyentes': None,\n",
    "            'reproducciones': None,\n",
    "            'biografia': None,\n",
    "            'artistas_similares': None\n",
    "        })\n",
    "    # Pausa para respetar los límites de la API\n",
    "    time.sleep(0.2)  # Ajusta el tiempo según las políticas actuales de Last.fm\n"
   ]
  },
  {
   "cell_type": "code",
   "execution_count": null,
   "metadata": {},
   "outputs": [],
   "source": [
    "df_artistas = pd.DataFrame(artist_data)\n"
   ]
  },
  {
   "cell_type": "code",
   "execution_count": null,
   "metadata": {},
   "outputs": [],
   "source": [
    "df_artistas"
   ]
  },
  {
   "cell_type": "code",
   "execution_count": null,
   "metadata": {},
   "outputs": [],
   "source": [
    "df_artistas.to_csv('spotify_lastfm_data.csv', index=False, encoding='utf-8')\n"
   ]
  },
  {
   "cell_type": "markdown",
   "metadata": {},
   "source": [
    "Exportar las bases de datos a SQL."
   ]
  },
  {
   "cell_type": "code",
   "execution_count": null,
   "metadata": {},
   "outputs": [],
   "source": [
    "!pip install sqlalchemy\n",
    "!pip install mysql-connector-python"
   ]
  },
  {
   "cell_type": "code",
   "execution_count": null,
   "metadata": {},
   "outputs": [],
   "source": [
    "import mysql.connector\n",
    "from sqlalchemy import create_engine\n",
    "import pandas as pd\n",
    "# Conectar a MySQL\n",
    "conn = mysql.connector.connect(user='root', password='AlumnaAdalab', host='localhost')\n",
    "cursor = conn.cursor()\n",
    "# Crear el esquema 'nuevo_schema' si no existe\n",
    "cursor.execute(\"CREATE DATABASE IF NOT EXISTS music_stream\")\n",
    "print(\"Esquema 'nuevo_schema' creado correctamente.\")\n"
   ]
  },
  {
   "cell_type": "code",
   "execution_count": null,
   "metadata": {},
   "outputs": [],
   "source": [
    "\n",
    "user = 'root'\n",
    "password = 'AlumnaAdalab'\n",
    "host = 'localhost'\n",
    "database = 'music_stream'\n",
    "engine = create_engine(f'mysql+mysqlconnector://{user}:{password}@{host}/{database}')\n",
    "# Exportar el DataFrame a MySQL\n",
    "df_spotify.to_sql('spotify', con=engine, if_exists='replace', index=False)\n",
    "print(\"Datos exportados correctamente a MySQL.\")\n",
    "# Exportar el DataFrame a MySQL\n",
    "df_artistas.to_sql('last_fm', con=engine, if_exists='replace', index=False)\n",
    "print(\"Datos exportados correctamente a MySQL.\")"
   ]
  },
  {
   "cell_type": "markdown",
   "metadata": {},
   "source": [
    "Manejamos un error, en el que los artitas similares no se nos había pasado como cadena de texto."
   ]
  },
  {
   "cell_type": "code",
   "execution_count": null,
   "metadata": {},
   "outputs": [],
   "source": [
    "\n",
    "df = df_artistas\n",
    "\n",
    "# Convertir las listas en la columna 'artistas_similares' a cadenas de texto\n",
    "df['artistas_similares'] = df['artistas_similares'].apply(lambda x: ', '.join(x) if isinstance(x, list) else x)\n",
    "\n",
    "user = 'root'\n",
    "password = 'AlumnaAdalab'\n",
    "host = 'localhost'\n",
    "database = 'music_stream'\n",
    "\n",
    "# Definir la cadena de conexión (ajusta según tu configuración)\n",
    "connection_string = f'mysql+mysqlconnector://{user}:{password}@{host}/{database}'\n",
    "\n",
    "# Crear el motor de SQLAlchemy\n",
    "engine = create_engine(connection_string)\n",
    "\n",
    "# Insertar los datos en la base de datos\n",
    "try:\n",
    "    df.to_sql('last_fm', con=engine, if_exists='append', index=False)\n",
    "    print(\"Datos insertados exitosamente\")\n",
    "except Exception as e:\n",
    "    print(f\"Ocurrió un error: {e}\")\n"
   ]
  },
  {
   "cell_type": "markdown",
   "metadata": {},
   "source": [
    "Cerrar conexión y cursor."
   ]
  },
  {
   "cell_type": "code",
   "execution_count": null,
   "metadata": {},
   "outputs": [],
   "source": [
    "cursor.close()\n",
    "conn.close()"
   ]
  }
 ],
 "metadata": {
  "kernelspec": {
   "display_name": "Python 3",
   "language": "python",
   "name": "python3"
  },
  "language_info": {
   "codemirror_mode": {
    "name": "ipython",
    "version": 3
   },
   "file_extension": ".py",
   "mimetype": "text/x-python",
   "name": "python",
   "nbconvert_exporter": "python",
   "pygments_lexer": "ipython3",
   "version": "3.13.0"
  }
 },
 "nbformat": 4,
 "nbformat_minor": 2
}
