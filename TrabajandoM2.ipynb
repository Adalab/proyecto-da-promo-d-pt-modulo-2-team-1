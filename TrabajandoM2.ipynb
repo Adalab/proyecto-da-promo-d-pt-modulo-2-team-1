{
 "cells": [
  {
   "cell_type": "code",
   "execution_count": 2,
   "metadata": {},
   "outputs": [
    {
     "name": "stdout",
     "output_type": "stream",
     "text": [
      "Collecting spotipy\n",
      "  Downloading spotipy-2.25.0-py3-none-any.whl.metadata (4.7 kB)\n",
      "Collecting redis>=3.5.3 (from spotipy)\n",
      "  Downloading redis-5.2.1-py3-none-any.whl.metadata (9.1 kB)\n",
      "Requirement already satisfied: requests>=2.25.0 in /home/andrea/anaconda3/lib/python3.12/site-packages (from spotipy) (2.32.3)\n",
      "Requirement already satisfied: urllib3>=1.26.0 in /home/andrea/anaconda3/lib/python3.12/site-packages (from spotipy) (2.2.3)\n",
      "Requirement already satisfied: charset-normalizer<4,>=2 in /home/andrea/anaconda3/lib/python3.12/site-packages (from requests>=2.25.0->spotipy) (3.3.2)\n",
      "Requirement already satisfied: idna<4,>=2.5 in /home/andrea/anaconda3/lib/python3.12/site-packages (from requests>=2.25.0->spotipy) (3.7)\n",
      "Requirement already satisfied: certifi>=2017.4.17 in /home/andrea/anaconda3/lib/python3.12/site-packages (from requests>=2.25.0->spotipy) (2024.8.30)\n",
      "Downloading spotipy-2.25.0-py3-none-any.whl (30 kB)\n",
      "Downloading redis-5.2.1-py3-none-any.whl (261 kB)\n",
      "Installing collected packages: redis, spotipy\n",
      "Successfully installed redis-5.2.1 spotipy-2.25.0\n"
     ]
    }
   ],
   "source": [
    "#Descargar spotipy\n",
    "!pip install spotipy"
   ]
  },
  {
   "cell_type": "code",
   "execution_count": null,
   "metadata": {},
   "outputs": [],
   "source": [
    "# Importar spotity\n",
    "import spotipy"
   ]
  },
  {
   "cell_type": "code",
   "execution_count": 4,
   "metadata": {},
   "outputs": [],
   "source": [
    "# Para entrar:\n",
    "from spotipy.oauth2 import SpotifyClientCredentials"
   ]
  },
  {
   "cell_type": "code",
   "execution_count": 8,
   "metadata": {},
   "outputs": [
    {
     "name": "stdout",
     "output_type": "stream",
     "text": [
      "Tu token de acceso es: BQB1G1rYgQD6Wt1uH6eShLIqSUZw8s3JuBmjGTTAGR4ypN3Nrop63TiCsALWujl8lkAkOAIBl672N3HIrE1yBCZwC6d-r_S1-K7yrPk_AnESK2PD6CpOjb_Et2cOcunWx8q2U40F9EQ\n"
     ]
    },
    {
     "name": "stderr",
     "output_type": "stream",
     "text": [
      "/tmp/ipykernel_13133/2263520940.py:12: DeprecationWarning: You're using 'as_dict = True'.get_access_token will return the token string directly in future versions. Please adjust your code accordingly, or use get_cached_token instead.\n",
      "  token_info = sp.auth_manager.get_access_token()\n"
     ]
    }
   ],
   "source": [
    "# Credenciales\n",
    "CLIENT_ID = '7a9658b7430848dcbe6bdf5465b1afde'\n",
    "CLIENT_SECRET = 'c80b14b55a09441ebeaf685e5113deff'\n",
    "\n",
    "#Autenticación\n",
    "auth_manager = SpotifyClientCredentials(client_id=CLIENT_ID, client_secret=CLIENT_SECRET)\n",
    "sp = spotipy.Spotify(auth_manager=auth_manager)\n",
    "redirect_uri=\"http://localhost:8888/callback\",\n",
    "scope=\"user-library-read\"  # Ajusta los permisos según necesites\n",
    "\n",
    "\n",
    "token_info = sp.auth_manager.get_access_token()\n",
    "print(\"Tu token de acceso es:\", token_info['access_token'])"
   ]
  },
  {
   "cell_type": "code",
   "execution_count": 10,
   "metadata": {},
   "outputs": [],
   "source": [
    "M2token = 'BQB1G1rYgQD6Wt1uH6eShLIqSUZw8s3JuBmjGTTAGR4ypN3Nrop63TiCsALWujl8lkAkOAIBl672N3HIrE1yBCZwC6d-r_S1-K7yrPk_AnESK2PD6CpOjb_Et2cOcunWx8q2U40F9EQ'"
   ]
  },
  {
   "cell_type": "code",
   "execution_count": null,
   "metadata": {},
   "outputs": [],
   "source": []
  },
  {
   "cell_type": "markdown",
   "metadata": {},
   "source": [
    "- Documentación:\n",
    "https://spotipy.readthedocs.io/en/2.24.0/index.html#spotipy.client.Spotify.search"
   ]
  },
  {
   "cell_type": "code",
   "execution_count": 6,
   "metadata": {},
   "outputs": [
    {
     "name": "stdout",
     "output_type": "stream",
     "text": [
      "Error: 401\n"
     ]
    }
   ],
   "source": [
    "import requests\n",
    "import json\n",
    "\n",
    "# URL del endpoint de géneros disponibles\n",
    "url = \"https://api.spotify.com/v1/recommendations/available-genre-seeds\"\n",
    "\n",
    "# Tu token de acceso a la API de Spotify\n",
    "token = \"c80b14b55a09441ebeaf685e5113deff\"\n",
    "\n",
    "# Cabeceras de la solicitud\n",
    "headers = {\n",
    "    \"Authorization\": f\"Bearer {token}\"\n",
    "}\n",
    "\n",
    "# Hacer la solicitud GET\n",
    "response = requests.get(url, headers=headers)\n",
    "\n",
    "# Verificar si la solicitud fue exitosa\n",
    "if response.status_code == 200:\n",
    "    genres = response.json()\n",
    "    print(json.dumps(genres, indent=4))\n",
    "else:\n",
    "    print(f\"Error: {response.status_code}\")"
   ]
  }
 ],
 "metadata": {
  "kernelspec": {
   "display_name": "base",
   "language": "python",
   "name": "python3"
  },
  "language_info": {
   "codemirror_mode": {
    "name": "ipython",
    "version": 3
   },
   "file_extension": ".py",
   "mimetype": "text/x-python",
   "name": "python",
   "nbconvert_exporter": "python",
   "pygments_lexer": "ipython3",
   "version": "3.12.7"
  }
 },
 "nbformat": 4,
 "nbformat_minor": 2
}
